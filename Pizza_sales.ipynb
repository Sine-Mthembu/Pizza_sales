{
 "cells": [
  {
   "cell_type": "markdown",
   "id": "2bea5db9",
   "metadata": {},
   "source": [
    "### Pizza sales data analyzed with both SQL and Python and a dashboard using Power BI"
   ]
  },
  {
   "cell_type": "code",
   "execution_count": 1,
   "id": "1ff0dcba",
   "metadata": {},
   "outputs": [],
   "source": [
    "#!pip install ipython-sql prettytable\n"
   ]
  },
  {
   "cell_type": "code",
   "execution_count": 2,
   "id": "05c67ad7",
   "metadata": {},
   "outputs": [
    {
     "name": "stderr",
     "output_type": "stream",
     "text": [
      "/Users/sinegugumthembu/anaconda3/envs/AI4WSA/lib/python3.11/site-packages/pandas/core/arrays/masked.py:60: UserWarning: Pandas requires version '1.3.6' or newer of 'bottleneck' (version '1.3.5' currently installed).\n",
      "  from pandas.core import (\n"
     ]
    }
   ],
   "source": [
    "import sqlite3\n",
    "import prettytable\n",
    "import seaborn\n",
    "import pandas as pd\n",
    "\n",
    "\n",
    "import warnings\n",
    "warnings.filterwarnings('ignore')"
   ]
  },
  {
   "cell_type": "code",
   "execution_count": 17,
   "id": "d8cde02a",
   "metadata": {
    "scrolled": true
   },
   "outputs": [
    {
     "data": {
      "text/html": [
       "<div>\n",
       "<style scoped>\n",
       "    .dataframe tbody tr th:only-of-type {\n",
       "        vertical-align: middle;\n",
       "    }\n",
       "\n",
       "    .dataframe tbody tr th {\n",
       "        vertical-align: top;\n",
       "    }\n",
       "\n",
       "    .dataframe thead th {\n",
       "        text-align: right;\n",
       "    }\n",
       "</style>\n",
       "<table border=\"1\" class=\"dataframe\">\n",
       "  <thead>\n",
       "    <tr style=\"text-align: right;\">\n",
       "      <th></th>\n",
       "      <th>pizza_id</th>\n",
       "      <th>order_id</th>\n",
       "      <th>pizza_name_id</th>\n",
       "      <th>quantity</th>\n",
       "      <th>order_date</th>\n",
       "      <th>order_time</th>\n",
       "      <th>unit_price</th>\n",
       "      <th>total_price</th>\n",
       "      <th>pizza_size</th>\n",
       "      <th>pizza_category</th>\n",
       "      <th>pizza_ingredients</th>\n",
       "      <th>pizza_name</th>\n",
       "    </tr>\n",
       "  </thead>\n",
       "  <tbody>\n",
       "    <tr>\n",
       "      <th>0</th>\n",
       "      <td>1</td>\n",
       "      <td>1</td>\n",
       "      <td>hawaiian_m</td>\n",
       "      <td>1</td>\n",
       "      <td>01-01-2015</td>\n",
       "      <td>11:38:36</td>\n",
       "      <td>13.25</td>\n",
       "      <td>13.25</td>\n",
       "      <td>M</td>\n",
       "      <td>Classic</td>\n",
       "      <td>Sliced Ham, Pineapple, Mozzarella Cheese</td>\n",
       "      <td>The Hawaiian Pizza</td>\n",
       "    </tr>\n",
       "    <tr>\n",
       "      <th>1</th>\n",
       "      <td>2</td>\n",
       "      <td>2</td>\n",
       "      <td>classic_dlx_m</td>\n",
       "      <td>1</td>\n",
       "      <td>01-01-2015</td>\n",
       "      <td>11:57:40</td>\n",
       "      <td>16.00</td>\n",
       "      <td>16.00</td>\n",
       "      <td>M</td>\n",
       "      <td>Classic</td>\n",
       "      <td>Pepperoni, Mushrooms, Red Onions, Red Peppers,...</td>\n",
       "      <td>The Classic Deluxe Pizza</td>\n",
       "    </tr>\n",
       "    <tr>\n",
       "      <th>2</th>\n",
       "      <td>3</td>\n",
       "      <td>2</td>\n",
       "      <td>five_cheese_l</td>\n",
       "      <td>1</td>\n",
       "      <td>01-01-2015</td>\n",
       "      <td>11:57:40</td>\n",
       "      <td>18.50</td>\n",
       "      <td>18.50</td>\n",
       "      <td>L</td>\n",
       "      <td>Veggie</td>\n",
       "      <td>Mozzarella Cheese, Provolone Cheese, Smoked Go...</td>\n",
       "      <td>The Five Cheese Pizza</td>\n",
       "    </tr>\n",
       "  </tbody>\n",
       "</table>\n",
       "</div>"
      ],
      "text/plain": [
       "   pizza_id  order_id  pizza_name_id  quantity  order_date order_time  \\\n",
       "0         1         1     hawaiian_m         1  01-01-2015   11:38:36   \n",
       "1         2         2  classic_dlx_m         1  01-01-2015   11:57:40   \n",
       "2         3         2  five_cheese_l         1  01-01-2015   11:57:40   \n",
       "\n",
       "   unit_price  total_price pizza_size pizza_category  \\\n",
       "0       13.25        13.25          M        Classic   \n",
       "1       16.00        16.00          M        Classic   \n",
       "2       18.50        18.50          L         Veggie   \n",
       "\n",
       "                                   pizza_ingredients                pizza_name  \n",
       "0           Sliced Ham, Pineapple, Mozzarella Cheese        The Hawaiian Pizza  \n",
       "1  Pepperoni, Mushrooms, Red Onions, Red Peppers,...  The Classic Deluxe Pizza  \n",
       "2  Mozzarella Cheese, Provolone Cheese, Smoked Go...     The Five Cheese Pizza  "
      ]
     },
     "execution_count": 17,
     "metadata": {},
     "output_type": "execute_result"
    }
   ],
   "source": [
    "df = pd.read_csv('pizza_sales.csv')\n",
    "#df.columns\n",
    "df.head(3)"
   ]
  },
  {
   "cell_type": "code",
   "execution_count": 70,
   "id": "34738c97",
   "metadata": {},
   "outputs": [
    {
     "data": {
      "text/html": [
       "<div>\n",
       "<style scoped>\n",
       "    .dataframe tbody tr th:only-of-type {\n",
       "        vertical-align: middle;\n",
       "    }\n",
       "\n",
       "    .dataframe tbody tr th {\n",
       "        vertical-align: top;\n",
       "    }\n",
       "\n",
       "    .dataframe thead th {\n",
       "        text-align: right;\n",
       "    }\n",
       "</style>\n",
       "<table border=\"1\" class=\"dataframe\">\n",
       "  <thead>\n",
       "    <tr style=\"text-align: right;\">\n",
       "      <th></th>\n",
       "      <th>pizza_id</th>\n",
       "      <th>order_id</th>\n",
       "      <th>pizza_name_id</th>\n",
       "      <th>quantity</th>\n",
       "      <th>order_date</th>\n",
       "      <th>order_time</th>\n",
       "      <th>unit_price</th>\n",
       "      <th>total_price</th>\n",
       "      <th>pizza_size</th>\n",
       "      <th>pizza_category</th>\n",
       "      <th>pizza_ingredients</th>\n",
       "      <th>pizza_name</th>\n",
       "    </tr>\n",
       "  </thead>\n",
       "  <tbody>\n",
       "    <tr>\n",
       "      <th>0</th>\n",
       "      <td>1</td>\n",
       "      <td>1</td>\n",
       "      <td>hawaiian_m</td>\n",
       "      <td>1</td>\n",
       "      <td>2015-01-01</td>\n",
       "      <td>11:38:36</td>\n",
       "      <td>13.25</td>\n",
       "      <td>13.25</td>\n",
       "      <td>M</td>\n",
       "      <td>Classic</td>\n",
       "      <td>Sliced Ham, Pineapple, Mozzarella Cheese</td>\n",
       "      <td>The Hawaiian Pizza</td>\n",
       "    </tr>\n",
       "    <tr>\n",
       "      <th>1</th>\n",
       "      <td>2</td>\n",
       "      <td>2</td>\n",
       "      <td>classic_dlx_m</td>\n",
       "      <td>1</td>\n",
       "      <td>2015-01-01</td>\n",
       "      <td>11:57:40</td>\n",
       "      <td>16.00</td>\n",
       "      <td>16.00</td>\n",
       "      <td>M</td>\n",
       "      <td>Classic</td>\n",
       "      <td>Pepperoni, Mushrooms, Red Onions, Red Peppers,...</td>\n",
       "      <td>The Classic Deluxe Pizza</td>\n",
       "    </tr>\n",
       "    <tr>\n",
       "      <th>2</th>\n",
       "      <td>3</td>\n",
       "      <td>2</td>\n",
       "      <td>five_cheese_l</td>\n",
       "      <td>1</td>\n",
       "      <td>2015-01-01</td>\n",
       "      <td>11:57:40</td>\n",
       "      <td>18.50</td>\n",
       "      <td>18.50</td>\n",
       "      <td>L</td>\n",
       "      <td>Veggie</td>\n",
       "      <td>Mozzarella Cheese, Provolone Cheese, Smoked Go...</td>\n",
       "      <td>The Five Cheese Pizza</td>\n",
       "    </tr>\n",
       "  </tbody>\n",
       "</table>\n",
       "</div>"
      ],
      "text/plain": [
       "   pizza_id  order_id  pizza_name_id  quantity order_date order_time  \\\n",
       "0         1         1     hawaiian_m         1 2015-01-01   11:38:36   \n",
       "1         2         2  classic_dlx_m         1 2015-01-01   11:57:40   \n",
       "2         3         2  five_cheese_l         1 2015-01-01   11:57:40   \n",
       "\n",
       "   unit_price  total_price pizza_size pizza_category  \\\n",
       "0       13.25        13.25          M        Classic   \n",
       "1       16.00        16.00          M        Classic   \n",
       "2       18.50        18.50          L         Veggie   \n",
       "\n",
       "                                   pizza_ingredients                pizza_name  \n",
       "0           Sliced Ham, Pineapple, Mozzarella Cheese        The Hawaiian Pizza  \n",
       "1  Pepperoni, Mushrooms, Red Onions, Red Peppers,...  The Classic Deluxe Pizza  \n",
       "2  Mozzarella Cheese, Provolone Cheese, Smoked Go...     The Five Cheese Pizza  "
      ]
     },
     "execution_count": 70,
     "metadata": {},
     "output_type": "execute_result"
    }
   ],
   "source": [
    "df['order_date']=pd.to_datetime(df['order_date'],format='%d-%m-%Y')\n",
    "df.head(3)"
   ]
  },
  {
   "cell_type": "code",
   "execution_count": 71,
   "id": "8cb0e667",
   "metadata": {},
   "outputs": [],
   "source": [
    "conn =sqlite3.connect('pizza_sales.db')\n",
    "cursor =conn.cursor()"
   ]
  },
  {
   "cell_type": "code",
   "execution_count": 95,
   "id": "12713812",
   "metadata": {},
   "outputs": [
    {
     "data": {
      "text/plain": [
       "<sqlite3.Cursor at 0x16b83cb40>"
      ]
     },
     "execution_count": 95,
     "metadata": {},
     "output_type": "execute_result"
    }
   ],
   "source": [
    "# Create the pizza_sales table\n",
    "\n",
    "create_table = '''\n",
    "\n",
    "CREATE TABLE IF NOT EXISTS pizza_sales (\n",
    "    id INTEGER PRIMARY KEY AUTOINCREMENT,\n",
    "    pizza_id INTEGER,\n",
    "    order_id INTEGER,\n",
    "    pizza_name_id TEXT,\n",
    "    quantity INTEGER,\n",
    "    order_date DATE,\n",
    "    order_time TEXT,\n",
    "    unit_price REAL,\n",
    "    total_price REAL,\n",
    "    pizza_size TEXT,\n",
    "    pizza_category TEXT,\n",
    "    pizza_ingredients TEXT,\n",
    "    pizza_name TEXT);\n",
    "'''\n",
    "cursor.execute(create_table)"
   ]
  },
  {
   "cell_type": "code",
   "execution_count": 96,
   "id": "ad45ac4b",
   "metadata": {},
   "outputs": [
    {
     "data": {
      "text/plain": [
       "48620"
      ]
     },
     "execution_count": 96,
     "metadata": {},
     "output_type": "execute_result"
    }
   ],
   "source": [
    "df.to_sql('pizza_sales', conn, if_exists='replace', index=False)"
   ]
  },
  {
   "cell_type": "code",
   "execution_count": 97,
   "id": "d76d1101",
   "metadata": {
    "scrolled": true
   },
   "outputs": [
    {
     "name": "stdout",
     "output_type": "stream",
     "text": [
      "   pizza_id  order_id  pizza_name_id  quantity           order_date  \\\n",
      "0         1         1     hawaiian_m         1  2015-01-01 00:00:00   \n",
      "1         2         2  classic_dlx_m         1  2015-01-01 00:00:00   \n",
      "2         3         2  five_cheese_l         1  2015-01-01 00:00:00   \n",
      "3         4         2    ital_supr_l         1  2015-01-01 00:00:00   \n",
      "4         5         2     mexicana_m         1  2015-01-01 00:00:00   \n",
      "5         6         2     thai_ckn_l         1  2015-01-01 00:00:00   \n",
      "6         7         3    ital_supr_m         1  2015-01-01 00:00:00   \n",
      "7         8         3   prsc_argla_l         1  2015-01-01 00:00:00   \n",
      "8         9         4    ital_supr_m         1  2015-01-01 00:00:00   \n",
      "9        10         5    ital_supr_m         1  2015-01-01 00:00:00   \n",
      "\n",
      "  order_time  unit_price  total_price pizza_size pizza_category  \\\n",
      "0   11:38:36       13.25        13.25          M        Classic   \n",
      "1   11:57:40       16.00        16.00          M        Classic   \n",
      "2   11:57:40       18.50        18.50          L         Veggie   \n",
      "3   11:57:40       20.75        20.75          L        Supreme   \n",
      "4   11:57:40       16.00        16.00          M         Veggie   \n",
      "5   11:57:40       20.75        20.75          L        Chicken   \n",
      "6   12:12:28       16.50        16.50          M        Supreme   \n",
      "7   12:12:28       20.75        20.75          L        Supreme   \n",
      "8   12:16:31       16.50        16.50          M        Supreme   \n",
      "9   12:21:30       16.50        16.50          M        Supreme   \n",
      "\n",
      "                                   pizza_ingredients  \\\n",
      "0           Sliced Ham, Pineapple, Mozzarella Cheese   \n",
      "1  Pepperoni, Mushrooms, Red Onions, Red Peppers,...   \n",
      "2  Mozzarella Cheese, Provolone Cheese, Smoked Go...   \n",
      "3  Calabrese Salami, Capocollo, Tomatoes, Red Oni...   \n",
      "4  Tomatoes, Red Peppers, Jalapeno Peppers, Red O...   \n",
      "5  Chicken, Pineapple, Tomatoes, Red Peppers, Tha...   \n",
      "6  Calabrese Salami, Capocollo, Tomatoes, Red Oni...   \n",
      "7  Prosciutto di San Daniele, Arugula, Mozzarella...   \n",
      "8  Calabrese Salami, Capocollo, Tomatoes, Red Oni...   \n",
      "9  Calabrese Salami, Capocollo, Tomatoes, Red Oni...   \n",
      "\n",
      "                         pizza_name  \n",
      "0                The Hawaiian Pizza  \n",
      "1          The Classic Deluxe Pizza  \n",
      "2             The Five Cheese Pizza  \n",
      "3         The Italian Supreme Pizza  \n",
      "4                The Mexicana Pizza  \n",
      "5            The Thai Chicken Pizza  \n",
      "6         The Italian Supreme Pizza  \n",
      "7  The Prosciutto and Arugula Pizza  \n",
      "8         The Italian Supreme Pizza  \n",
      "9         The Italian Supreme Pizza  \n"
     ]
    }
   ],
   "source": [
    "view_db = \"SELECT * FROM pizza_sales LIMIT 10;\"\n",
    "cursor.execute(view_db)\n",
    "result = pd.read_sql_query(view_db, conn)\n",
    "print(result)"
   ]
  },
  {
   "cell_type": "code",
   "execution_count": 98,
   "id": "4c2f4893",
   "metadata": {
    "scrolled": true
   },
   "outputs": [
    {
     "name": "stdout",
     "output_type": "stream",
     "text": [
      "The total revenue is: total_revenue    817860.05\n",
      "Name: 0, dtype: float64\n"
     ]
    }
   ],
   "source": [
    "sum_total_price_q = \"SELECT SUM(total_price) AS total_revenue FROM pizza_sales;\"\n",
    "cursor.execute(sum_total_price_q)\n",
    "sum_total_price = pd.read_sql_query(sum_total_price_q, conn)\n",
    "print('The total revenue is:', sum_total_price.loc[0])\n"
   ]
  },
  {
   "cell_type": "code",
   "execution_count": 77,
   "id": "1967c26c",
   "metadata": {},
   "outputs": [
    {
     "name": "stdout",
     "output_type": "stream",
     "text": [
      "The average price per order is: avg_price_order    38.307262\n",
      "Name: 0, dtype: float64\n"
     ]
    }
   ],
   "source": [
    "avg_price_order_q = \"SELECT SUM(total_price)/ COUNT (DISTINCT order_id) AS avg_price_order FROM pizza_sales;\"\n",
    "cursor.execute(avg_price_order_q)\n",
    "avg_price_order = pd.read_sql_query(avg_price_order_q, conn)\n",
    "print('The average price per order is:', avg_price_order.loc[0])"
   ]
  },
  {
   "cell_type": "code",
   "execution_count": 78,
   "id": "16fd8fee",
   "metadata": {},
   "outputs": [
    {
     "name": "stdout",
     "output_type": "stream",
     "text": [
      "The total number of orders is: num_total_orders    21350\n",
      "Name: 0, dtype: int64\n"
     ]
    }
   ],
   "source": [
    "num_total_orders_q = \"SELECT COUNT (DISTINCT order_id) AS num_total_orders FROM pizza_sales;\"\n",
    "cursor.execute(num_total_orders_q)\n",
    "num_total_orders = pd.read_sql_query(num_total_orders_q, conn)\n",
    "print('The total number of orders is:', num_total_orders.loc[0])"
   ]
  },
  {
   "cell_type": "code",
   "execution_count": 79,
   "id": "2a81974b",
   "metadata": {},
   "outputs": [
    {
     "name": "stdout",
     "output_type": "stream",
     "text": [
      "The number of pizzas per order is: total_pizzas    49574\n",
      "Name: 0, dtype: int64\n"
     ]
    }
   ],
   "source": [
    "total_pizzas_q = \"SELECT SUM(quantity) AS total_pizzas FROM pizza_sales;\"\n",
    "cursor.execute(total_pizzas_q)\n",
    "total_pizzas = pd.read_sql_query(total_pizzas_q, conn)\n",
    "print('The number of pizzas per order is:', total_pizzas.loc[0])"
   ]
  },
  {
   "cell_type": "code",
   "execution_count": 80,
   "id": "bbe61483",
   "metadata": {},
   "outputs": [
    {
     "name": "stdout",
     "output_type": "stream",
     "text": [
      "The average number of pizzas sold is: avg_pizzas_sold    2\n",
      "Name: 0, dtype: int64\n"
     ]
    }
   ],
   "source": [
    "#avg_pizzas_sold_q = \"SELECT CAST(SUM(quantity) AS DECIMAL(10,2))/COUNT (DISTINCT order_id) AS avg_pizzas_sold FROM pizza_sales;\"\n",
    "avg_pizzas_sold_q = \"SELECT SUM(quantity) /COUNT (DISTINCT order_id) AS avg_pizzas_sold FROM pizza_sales;\"\n",
    "cursor.execute(avg_pizzas_sold_q)\n",
    "avg_pizzas_sold = pd.read_sql_query(avg_pizzas_sold_q, conn)\n",
    "print('The average number of pizzas sold is:', avg_pizzas_sold.loc[0])"
   ]
  },
  {
   "cell_type": "code",
   "execution_count": 87,
   "id": "edc7c702",
   "metadata": {},
   "outputs": [
    {
     "name": "stdout",
     "output_type": "stream",
     "text": [
      "  order_day  total_orders_per_day\n",
      "0         0                  2624\n",
      "1         1                  2794\n",
      "2         2                  2973\n",
      "3         3                  3024\n",
      "4         4                  3239\n",
      "5         5                  3538\n",
      "6         6                  3158\n"
     ]
    }
   ],
   "source": [
    "total_orders_per_day_q = \"SELECT strftime('%w', order_date) AS order_day, COUNT(DISTINCT order_id) AS total_orders_per_day FROM pizza_sales GROUP BY strftime('%w', order_date);\"\n",
    "cursor.execute(total_orders_per_day_q)\n",
    "total_orders_per_day = pd.read_sql_query(total_orders_per_day_q, conn)\n",
    "print(total_orders_per_day)"
   ]
  },
  {
   "cell_type": "code",
   "execution_count": 88,
   "id": "c734543f",
   "metadata": {},
   "outputs": [
    {
     "name": "stdout",
     "output_type": "stream",
     "text": [
      "   order_day  total_orders_per_day\n",
      "0     Sunday                  2624\n",
      "1     Monday                  2794\n",
      "2    Tuesday                  2973\n",
      "3  Wednesday                  3024\n",
      "4   Thursday                  3239\n",
      "5     Friday                  3538\n",
      "6   Saturday                  3158\n"
     ]
    }
   ],
   "source": [
    "# Map day numbers to day names\n",
    "day_mapping = {\n",
    "    '0': 'Sunday',\n",
    "    '1': 'Monday',\n",
    "    '2': 'Tuesday',\n",
    "    '3': 'Wednesday',\n",
    "    '4': 'Thursday',\n",
    "    '5': 'Friday',\n",
    "    '6': 'Saturday'\n",
    "}\n",
    "# Replace day numbers with day names\n",
    "total_orders_per_day['order_day'] = total_orders_per_day['order_day'].map(day_mapping)\n",
    "# Print the result with day names\n",
    "print(total_orders_per_day)"
   ]
  },
  {
   "cell_type": "code",
   "execution_count": 91,
   "id": "bdd8293b",
   "metadata": {},
   "outputs": [
    {
     "name": "stdout",
     "output_type": "stream",
     "text": [
      "   order_month  total_orders_per_month\n",
      "0           07                    1935\n",
      "1           05                    1853\n",
      "2           01                    1845\n",
      "3           08                    1841\n",
      "4           03                    1840\n",
      "5           04                    1799\n",
      "6           11                    1792\n",
      "7           06                    1773\n",
      "8           02                    1685\n",
      "9           12                    1680\n",
      "10          09                    1661\n",
      "11          10                    1646\n"
     ]
    }
   ],
   "source": [
    "total_orders_per_month_q = \"SELECT strftime('%m', order_date) AS order_month, COUNT(DISTINCT order_id) AS total_orders_per_month FROM pizza_sales GROUP BY strftime('%m', order_date) ORDER BY total_orders_per_month DESC;\"\n",
    "cursor.execute(total_orders_per_month_q)\n",
    "total_orders_per_month = pd.read_sql_query(total_orders_per_month_q, conn)\n",
    "print(total_orders_per_month)"
   ]
  },
  {
   "cell_type": "code",
   "execution_count": 90,
   "id": "2a80310d",
   "metadata": {},
   "outputs": [
    {
     "name": "stdout",
     "output_type": "stream",
     "text": [
      "   order_month  total_orders_per_month\n",
      "0      January                    1845\n",
      "1     February                    1685\n",
      "2        March                    1840\n",
      "3        April                    1799\n",
      "4          May                    1853\n",
      "5         June                    1773\n",
      "6         July                    1935\n",
      "7       August                    1841\n",
      "8    September                    1661\n",
      "9      October                    1646\n",
      "10    November                    1792\n",
      "11    December                    1680\n"
     ]
    }
   ],
   "source": [
    "total_orders_per_month = pd.read_sql_query(total_orders_per_month_q, conn)\n",
    "# Map month numbers to month names\n",
    "month_mapping = {\n",
    "    '01': 'January',\n",
    "    '02': 'February',\n",
    "    '03': 'March',\n",
    "    '04': 'April',\n",
    "    '05': 'May',\n",
    "    '06': 'June',\n",
    "    '07': 'July',\n",
    "    '08': 'August',\n",
    "    '09': 'September',\n",
    "    '10': 'October',\n",
    "    '11': 'November',\n",
    "    '12': 'December'\n",
    "}\n",
    "# Replace month numbers with month names\n",
    "total_orders_per_month['order_month'] = total_orders_per_month['order_month'].map(month_mapping)\n",
    "# Print the result with month names\n",
    "print(total_orders_per_month)"
   ]
  },
  {
   "cell_type": "code",
   "execution_count": 100,
   "id": "b80e5f16",
   "metadata": {},
   "outputs": [
    {
     "name": "stdout",
     "output_type": "stream",
     "text": [
      "  pizza_category  \\\n",
      "0        Chicken   \n",
      "1        Classic   \n",
      "2        Supreme   \n",
      "3         Veggie   \n",
      "\n",
      "   SUM(total_price)*100/(SELECT SUM(total_price) FROM pizza_sales)  \n",
      "0                                          23.955138                \n",
      "1                                          26.905960                \n",
      "2                                          25.456311                \n",
      "3                                          23.682591                \n"
     ]
    }
   ],
   "source": [
    "percentage_sale_category_q = \"SELECT pizza_category, SUM(total_price)*100/(SELECT SUM(total_price) FROM pizza_sales) FROM pizza_sales AS total_per_category GROUP BY pizza_category;\"\n",
    "cursor.execute(percentage_sale_category_q)\n",
    "percentage_sale_category = pd.read_sql_query(percentage_sale_category_q, conn)\n",
    "print(percentage_sale_category)"
   ]
  },
  {
   "cell_type": "code",
   "execution_count": 108,
   "id": "7403b090",
   "metadata": {},
   "outputs": [
    {
     "name": "stdout",
     "output_type": "stream",
     "text": [
      "  pizza_category  total_sales  percentage_sales\n",
      "0        Chicken     16188.75         23.195278\n",
      "1        Classic     18619.40         26.677919\n",
      "2        Supreme     17929.75         25.689787\n",
      "3         Veggie     17055.40         24.437016\n"
     ]
    }
   ],
   "source": [
    "percentage_sale_permonth_category_q = \"\"\"SELECT \n",
    "    pizza_category, \n",
    "    SUM(total_price) AS total_sales, \n",
    "    (SUM(total_price) * 100.0 / (SELECT SUM(total_price) FROM pizza_sales WHERE strftime('%m', order_date) = '01')) AS percentage_sales\n",
    "FROM \n",
    "    pizza_sales\n",
    "WHERE \n",
    "    strftime('%m', order_date) = '01'\n",
    "GROUP BY \n",
    "    pizza_category;\n",
    "\"\"\"\n",
    "cursor.execute(percentage_sale_permonth_category_q)\n",
    "total_permonth_category = pd.read_sql_query(percentage_sale_permonth_category_q, conn)\n",
    "print(total_permonth_category)"
   ]
  },
  {
   "cell_type": "code",
   "execution_count": 109,
   "id": "6418c7bb",
   "metadata": {},
   "outputs": [
    {
     "name": "stdout",
     "output_type": "stream",
     "text": [
      "  pizza_size  total_sales  percentage_sales\n",
      "0          L      32399.4         46.421934\n",
      "1          M      20943.5         30.007895\n",
      "2          S      15103.5         21.640329\n",
      "3         XL       1275.0          1.826823\n",
      "4        XXL         71.9          0.103018\n"
     ]
    }
   ],
   "source": [
    "percentage_sale_permonth_category_q = \"\"\"SELECT \n",
    "    pizza_size, \n",
    "    SUM(total_price) AS total_sales, \n",
    "    (SUM(total_price) * 100.0 / (SELECT SUM(total_price) FROM pizza_sales WHERE strftime('%m', order_date) = '01')) AS percentage_sales\n",
    "FROM \n",
    "    pizza_sales\n",
    "WHERE \n",
    "    strftime('%m', order_date) = '01'\n",
    "GROUP BY \n",
    "    pizza_size;\n",
    "\"\"\"\n",
    "cursor.execute(percentage_sale_permonth_category_q)\n",
    "total_permonth_category = pd.read_sql_query(percentage_sale_permonth_category_q, conn)\n",
    "print(total_permonth_category)"
   ]
  },
  {
   "cell_type": "code",
   "execution_count": 117,
   "id": "fd7174a1",
   "metadata": {},
   "outputs": [
    {
     "name": "stdout",
     "output_type": "stream",
     "text": [
      "  pizza_size  total_sales  percentage_sales\n",
      "0          L    375318.70         45.890333\n",
      "1          M    249382.25         30.492044\n",
      "2          S    178076.50         21.773468\n",
      "3         XL     14076.00          1.721077\n",
      "4        XXL      1006.60          0.123077\n"
     ]
    }
   ],
   "source": [
    "# SQL query to calculate percentage sales per pizza size for each pizza category\n",
    "\n",
    "percentage_size_permonth_category_q = \"\"\"\n",
    "\n",
    "SELECT  \n",
    "    pizza_size,\n",
    "    SUM(total_price) AS total_sales, \n",
    "    (SUM(total_price) * 100.0 / (SELECT SUM(total_price) FROM pizza_sales)) AS percentage_sales\n",
    "FROM \n",
    "    pizza_sales\n",
    "GROUP BY \n",
    "     pizza_size;\n",
    "\"\"\"\n",
    "\n",
    "total_per_size = pd.read_sql_query(percentage_size_permonth_category_q, conn)\n",
    "print(total_per_size)"
   ]
  },
  {
   "cell_type": "code",
   "execution_count": 124,
   "id": "071c6781",
   "metadata": {},
   "outputs": [
    {
     "name": "stdout",
     "output_type": "stream",
     "text": [
      "                     pizza_name  total_per_pizza\n",
      "0        The Thai Chicken Pizza         43434.25\n",
      "1    The Barbecue Chicken Pizza         42768.00\n",
      "2  The California Chicken Pizza         41409.50\n",
      "3      The Classic Deluxe Pizza         38180.50\n",
      "4       The Spicy Italian Pizza         34831.25\n"
     ]
    }
   ],
   "source": [
    "total_per_pizza_q = \"\"\" SELECT pizza_name, SUM(total_price) AS total_per_pizza FROM pizza_sales GROUP BY pizza_name\n",
    "ORDER BY total_per_pizza DESC LIMIT 5;\"\"\"\n",
    "\n",
    "total_per_pizza = pd.read_sql_query(total_per_pizza_q, conn)\n",
    "print(total_per_pizza)"
   ]
  },
  {
   "cell_type": "code",
   "execution_count": 125,
   "id": "76a2c980",
   "metadata": {},
   "outputs": [
    {
     "name": "stdout",
     "output_type": "stream",
     "text": [
      "                  pizza_name  total_per_pizza\n",
      "0       The Brie Carre Pizza         11588.50\n",
      "1     The Green Garden Pizza         13955.75\n",
      "2  The Spinach Supreme Pizza         15277.75\n",
      "3    The Mediterranean Pizza         15360.50\n",
      "4    The Spinach Pesto Pizza         15596.00\n"
     ]
    }
   ],
   "source": [
    "total_per_pizza_q = \"\"\" SELECT pizza_name, SUM(total_price) AS total_per_pizza FROM pizza_sales GROUP BY pizza_name\n",
    "ORDER BY total_per_pizza ASC LIMIT 5;\"\"\"\n",
    "\n",
    "total_per_pizza = pd.read_sql_query(total_per_pizza_q, conn)\n",
    "print(total_per_pizza)"
   ]
  },
  {
   "cell_type": "code",
   "execution_count": 128,
   "id": "e037b932",
   "metadata": {},
   "outputs": [
    {
     "name": "stdout",
     "output_type": "stream",
     "text": [
      "                          pizza_name  quantity_per_pizza\n",
      "0  The Vegetables + Vegetables Pizza                1526\n",
      "1             The Thai Chicken Pizza                2371\n",
      "2         The Spinach and Feta Pizza                1446\n",
      "3          The Spinach Supreme Pizza                 950\n",
      "4            The Spinach Pesto Pizza                 970\n"
     ]
    }
   ],
   "source": [
    "quantity_q = \"\"\" SELECT pizza_name, SUM(quantity) AS quantity_per_pizza FROM pizza_sales GROUP BY pizza_name\n",
    "ORDER BY  pizza_name DESC LIMIT 5;\"\"\"\n",
    "\n",
    "quantity_per_pizza  = pd.read_sql_query(quantity_q, conn)\n",
    "print(quantity_per_pizza)"
   ]
  },
  {
   "cell_type": "code",
   "execution_count": 135,
   "id": "8920ed5e",
   "metadata": {},
   "outputs": [
    {
     "name": "stdout",
     "output_type": "stream",
     "text": [
      "                   pizza_name  total_orders\n",
      "0    The Classic Deluxe Pizza          2329\n",
      "1          The Hawaiian Pizza          2280\n",
      "2         The Pepperoni Pizza          2278\n",
      "3  The Barbecue Chicken Pizza          2273\n",
      "4      The Thai Chicken Pizza          2225\n"
     ]
    }
   ],
   "source": [
    "quantity_id_q = \"\"\" SELECT pizza_name, COUNT(DISTINCT order_id) AS total_orders FROM pizza_sales GROUP BY pizza_name\n",
    "ORDER BY  total_orders DESC LIMIT 5;\"\"\"\n",
    "\n",
    "total_orders  = pd.read_sql_query(quantity_id_q, conn)\n",
    "print(total_orders)"
   ]
  },
  {
   "cell_type": "code",
   "execution_count": null,
   "id": "d8e21039",
   "metadata": {},
   "outputs": [],
   "source": []
  }
 ],
 "metadata": {
  "kernelspec": {
   "display_name": "Python 3 (ipykernel)",
   "language": "python",
   "name": "python3"
  },
  "language_info": {
   "codemirror_mode": {
    "name": "ipython",
    "version": 3
   },
   "file_extension": ".py",
   "mimetype": "text/x-python",
   "name": "python",
   "nbconvert_exporter": "python",
   "pygments_lexer": "ipython3",
   "version": "3.11.5"
  }
 },
 "nbformat": 4,
 "nbformat_minor": 5
}
